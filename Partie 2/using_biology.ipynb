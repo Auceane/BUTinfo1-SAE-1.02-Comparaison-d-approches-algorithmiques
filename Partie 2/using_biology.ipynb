{
 "cells": [
  {
   "cell_type": "markdown",
   "id": "a023b3ed",
   "metadata": {},
   "source": [
    "## <strong><em><u>SAÉ S1.02 : ARN et protéïnes</u></em></strong>\n",
    "#### <strong><em><u>Partie 2</u></em></strong>"
   ]
  },
  {
   "cell_type": "markdown",
   "id": "47840237",
   "metadata": {},
   "source": [
    "## Binôme \n",
    "\n",
    "* HAUDE   Aucéane\n",
    "* DA COSTA   Antoine"
   ]
  },
  {
   "cell_type": "markdown",
   "id": "6a9f80c0",
   "metadata": {},
   "source": [
    "## <em>Cellule à Activer au début :</em>"
   ]
  },
  {
   "cell_type": "code",
   "execution_count": 1,
   "id": "ae740365",
   "metadata": {},
   "outputs": [],
   "source": [
    "from biology import *\n",
    "from test_biology import *\n",
    "from json import *"
   ]
  },
  {
   "cell_type": "markdown",
   "id": "4bd4153e",
   "metadata": {},
   "source": [
    "## <u><p id=\"Sommaire\">Sommaire</p></u>\n",
    "\n",
    "### <u>Partie 2</u>\n",
    "\n",
    "\n",
    "<p>\n",
    "<em><li><a href=#qts1>Question 1</a></li>\n",
    "\n",
    "<li><a href=#qts2>Question 2</a></li>\n",
    "    \n",
    "<li><a href=#qts3>Question 3</a></li>\n",
    "    \n",
    "<li><a href=#qts4>Question 4</a></li>\n",
    "    \n",
    "<li><a href=#qts5>Question 5</a></li>\n",
    "    \n",
    "</em>\n",
    "    \n",
    "</p>"
   ]
  },
  {
   "cell_type": "markdown",
   "id": "997c5d2d",
   "metadata": {},
   "source": [
    "### <em><u>Sujet</u></em>\n",
    "\n",
    "\n",
    "\n",
    "\n",
    "### <em><u>Partie 2</u></em>\n",
    "\n",
    "Le séquençage des acides aminés ne commence que lorsque le *codon start* est rencontré. Ce codon est le codon `AUG`. On appelle séquence codante l'ensemble des codons compris entre le codon start et un codon stop. Dans une séquence codante, le codon `AUG` correspond à l'acide aminé *Methionine*. Une séquence de codons peut contenir zéro, une ou plusieurs séquences codantes. Par exemple, la séquence `\"CGU\", \"UUU\", \"AUG\", \"CGU\", \"AUG\", \"AAU\", \"UAA\", \"AUG\", \"GGG\", \"CCC\",  \"CGU\", \"UAG\", \"GGG\"` contient deux séquences codantes : `\"CGU\", \"AUG\"` et `\"GGG\", \"CCC\", \"CGU\"` puisque `\"AAU\"` et `\"UAG\"` sont des codons stop.\n",
    "\n",
    "**Remarque :** Une séquence codante est délimitée par le codon start et un codon stop. Si la séquence de codons ne contient aucun codon stop, alors il n'y a pas de séquence codante."
   ]
  },
  {
   "cell_type": "markdown",
   "id": "3658e9c1",
   "metadata": {},
   "source": [
    "#### <strong><u><p id=\"qts1\"> Question 1</p></u></strong>\n",
    "\n",
    "Définir la fonction `nextIndice` prenant en paramètre un tableau `tab`, un indice `ind` de `tab`, et un deuxième tableau `elements`. La fonction recherche dans le tableau `tab` à partir de l'indice `ind` et retourne l'indice de la première case du tableau `tab` contenant une valeur de `elements`.\n",
    "\n",
    "Par exemple, l'appel de la fonction `nextIndice` avec le tableau `tab` égal à `[\"bonjour\", \"hello\", \"buongiorno\", \"ciao\", \"bye\"]`, et le tableau `elements` égal à `[\"hello\", \"bye\"]` doit retourner 1 si `ind` est inférieur ou égal à 1 lors de l'appel, et 4 sinon.\n",
    "\n",
    "**Remarque :** si aucune valeur de `elements` n'apparaît dans `tab` à partir de l'indice `ind`, la fonction doit renvoyer la valeur `len(tab)`.\n",
    "\n",
    "<strong><a href=#Sommaire> Retour au Sommaire</a></strong>"
   ]
  },
  {
   "cell_type": "code",
   "execution_count": 2,
   "id": "e4ef8308",
   "metadata": {},
   "outputs": [
    {
     "name": "stdout",
     "output_type": "stream",
     "text": [
      "Pour la fonction nextIndice:\n",
      "\n",
      "\n",
      "\n",
      "La variable elements restera:\n",
      " [\"hello\", \"bye\"]\n",
      " \n",
      "Voici la fonction nextIndice avec le tableau:\n",
      " ['bonjour', 'hello', 'buongiorno', 'ciao', 'bye'] \n",
      "Avec l'indice ind qui sera: 1 \n",
      "La fonction donne : 1\n",
      "\n",
      "\n",
      "Avec ind= 2 ,la fonction nextIndice donne: 4 .\n",
      "\n",
      "\n",
      "Et sans le 'bye' de la fin du tableau tab,\n",
      "Donc avec le tableau:\n",
      " ['bonjour', 'hello', 'buongiorno', 'ciao'] \n",
      "\n",
      "L'indice ind étant toujours 2\n",
      "La fonction donne: 4 \n",
      "La fonction donne 4 car elle n'a pas de valeur correspondante.\n",
      "Et sans le 'bye', len(tab)= 4\n",
      "\n",
      "\n",
      "Et\n",
      "Test Valide\n"
     ]
    }
   ],
   "source": [
    "tab=[\"bonjour\", \"hello\", \"buongiorno\", \"ciao\", \"bye\"]\n",
    "elements=[\"hello\", \"bye\"]\n",
    "ind=1\n",
    "print(\"Pour la fonction nextIndice:\\n\\n\\n\")\n",
    "print('La variable elements restera:\\n [\"hello\", \"bye\"]\\n ')\n",
    "print(\"Voici la fonction nextIndice avec le tableau:\\n\",tab,\"\\nAvec l'indice ind qui sera:\",ind,\"\\nLa fonction donne :\",nextIndice(tab,ind,elements))\n",
    "ind+=1\n",
    "print(\"\\n\\nAvec ind=\",ind,\",la fonction nextIndice donne:\",nextIndice(tab,ind,elements),\".\")\n",
    "tab.pop()\n",
    "print(\"\\n\\nEt sans le 'bye' de la fin du tableau tab,\\nDonc avec le tableau:\\n\",tab,\"\\n\\nL'indice ind étant toujours 2\\nLa fonction donne:\",nextIndice(tab,ind,elements),\"\\nLa fonction donne\",len(tab),\"car elle n'a pas de valeur correspondante.\\nEt sans le 'bye', len(tab)=\",len(tab))\n",
    "\n",
    "\n",
    "\n",
    "print(\"\\n\\nEt\")\n",
    "test_nextIndice()"
   ]
  },
  {
   "cell_type": "markdown",
   "id": "08b68a76",
   "metadata": {},
   "source": [
    "<strong><a href=#qts1> Retour à la consigne de la Question 1</a></strong>\n"
   ]
  },
  {
   "cell_type": "code",
   "execution_count": 3,
   "id": "491c75bd",
   "metadata": {},
   "outputs": [],
   "source": [
    "#Docstring de nextIndice\n",
    "?nextIndice"
   ]
  },
  {
   "cell_type": "markdown",
   "id": "836a4dfc",
   "metadata": {},
   "source": [
    "#### <u><p id=\"qts2\">Question 2</p></u>\n",
    "\n",
    "\n",
    "Définir la fonction `decoupe_sequence` prenant en paramètre trois tableaux `seq`, `start` et `stop`. La fonction doit découper le tableau `seq` en séquences et retourner un tableau contenant les différents morceaux. Un morceau dans le tableau `seq` est une partie non vide de `seq` comprise entre une valeur de `start` et une valeur de `stop`.\n",
    "\n",
    "L'appel de la fonction `decoupe_sequence` avec les tableaux \n",
    "```python\n",
    "seq = [\"val1\", \"début\", \"val2\", \"val3\", \"end\", \"val4\", \"fin\", \"begin\", \"val5\", \"fin\", \"val6\"]\n",
    "start = [\"début\", \"begin\"]\n",
    "stop = [\"fin\", \"end\"]\n",
    "```\n",
    "doit retourner\n",
    "```python\n",
    "[\n",
    "    [\"val2\", \"val3\"],\n",
    "    [\"val5\"]\n",
    "]\n",
    "```\n",
    "\n",
    "<strong><a href=#Sommaire> Retour au Sommaire</a></strong>"
   ]
  },
  {
   "cell_type": "code",
   "execution_count": 40,
   "id": "7577fdd5",
   "metadata": {},
   "outputs": [
    {
     "name": "stdout",
     "output_type": "stream",
     "text": [
      "Pour la fonction decoupe_sequence:\n",
      "\n",
      "\n",
      "\n",
      "Les variables: \n",
      " -start:\n",
      "  ['début', 'begin'] \n",
      "Et\n",
      " -stop:\n",
      "  ['fin', 'end'] \n",
      "Ne vont pas changé.\n",
      "\n",
      "\n",
      "Avec la sequence témoin:\n",
      " ['val1', 'début', 'val2', 'val3', 'end', 'val4', 'fin', 'begin', 'val5', 'fin', 'val6'] \n",
      "La fonction decoupe_sequence donne:\n",
      " [['val2', 'val3'], ['val5']]\n",
      "\n",
      "\n",
      "-Si on enlève la valeur 'val1', la fonction donnera:\n",
      " [['val2', 'val3'], ['val5']] \n",
      " Cela ne change pas car cette valeur n'était pas avant un 'begin' ou 'debut'.\n",
      "\n",
      "\n",
      "-Si on enlève la valeur 'end'(à l'indice 4), la fonction donnera:\n",
      " [['val2', 'val3', 'val4'], ['val5']] \n",
      " Cela donne ce tableau car on n'arrête pas la prise de valeur donc cela continu jusqu'à avoir une valeur de stop.\n",
      "\n",
      "\n",
      "-Si on enlève la valeur 'fin'(à l'indice 9), la fonction donnera:\n",
      " [['val2', 'val3'], ['val5', 'val6']] \n",
      " Cela donne ce tableau car on n'arrête pas la prise de valeur donc cela continu jusqu'à avoir une valeur de stop \n",
      " et cela jusqu'au bout.\n",
      "\n",
      "\n",
      "-Si on enlève la valeur 'begin'(à l'indice 7), la fonction donnera:\n",
      " [['val2', 'val3']] \n",
      " Cela donne ce tableau car on ne redemande pas, avec le 'begin' qui fait partie de start, de reprendre des valeurs.\n",
      "\n",
      "\n",
      "-Si on enlève les valeurs 'fin'(à l'indice 6) et ''(à l'indice 7), la fonction donnera:\n",
      " [['val2', 'val3']] \n",
      " Cela donne ce tableau car on ne redemande pas, avec le 'begin' qui fait partie de start, de reprendre des valeurs. \n",
      " Et le 'fin' n'avais aucun effet, car il avais pas de valeur de start ,qui aurais activé la prise de valeur ,auparavant.\n",
      "\n",
      "\n",
      "-Si on enlève les valeurs 'end'(à l'indice 4) et 'fin'(à l'indice 6), la fonction donnera:\n",
      " [['val2', 'val3', 'val4', 'begin', 'val5']] \n",
      " Cela donne ce tableau car la fonction n'a rien pour arrêter sauf avec le dernier 'fin' \n",
      " Donc elle prend toutes les valeurs qui passe.\n",
      "\n",
      "\n",
      "Et\n",
      "Test Valide\n"
     ]
    }
   ],
   "source": [
    "seq = [\"val1\", \"début\", \"val2\", \"val3\", \"end\", \"val4\", \"fin\", \"begin\", \"val5\", \"fin\", \"val6\"]\n",
    "start = [\"début\", \"begin\"]\n",
    "stop = [\"fin\", \"end\"]\n",
    "print(\"Pour la fonction decoupe_sequence:\\n\\n\\n\")\n",
    "print(\"Les variables: \\n -start:\\n \",start,\"\\nEt\\n -stop:\\n \",stop,\"\\nNe vont pas changé.\\n\\n\")\n",
    "print(\"Avec la sequence témoin:\\n\",seq,\"\\nLa fonction decoupe_sequence donne:\\n\",decoupe_sequence(seq,start,stop))\n",
    "\n",
    "#val1 0\n",
    "seq2= [\"début\", \"val2\", \"val3\", \"end\", \"val4\", \"fin\", \"begin\", \"val5\", \"fin\", \"val6\"]\n",
    "print(\"\\n\\n-Si on enlève la valeur 'val1', la fonction donnera:\\n\",decoupe_sequence(seq2,start,stop),\"\\n Cela ne change pas car cette valeur n'était pas avant un 'begin' ou 'debut'.\")\n",
    "\n",
    "#end 4\n",
    "seq3= [\"val1\", \"début\", \"val2\", \"val3\", \"val4\", \"fin\", \"begin\", \"val5\", \"fin\", \"val6\"]\n",
    "print(\"\\n\\n-Si on enlève la valeur 'end'(à l'indice 4), la fonction donnera:\\n\",decoupe_sequence(seq3,start,stop),\"\\n Cela donne ce tableau car on n'arrête pas la prise de valeur donc cela continu jusqu'à avoir une valeur de stop.\")\n",
    "\n",
    "#fin2 9\n",
    "seq4= [\"val1\", \"début\", \"val2\", \"val3\", \"end\", \"val4\", \"fin\", \"begin\", \"val5\", \"val6\"]\n",
    "print(\"\\n\\n-Si on enlève la valeur 'fin'(à l'indice 9), la fonction donnera:\\n\",decoupe_sequence(seq4,start,stop),\"\\n Cela donne ce tableau car on n'arrête pas la prise de valeur donc cela continu jusqu'à avoir une valeur de stop \\n et cela jusqu'au bout.\")\n",
    "\n",
    "#begin 7\n",
    "seq5= [\"val1\", \"début\", \"val2\", \"val3\", \"end\", \"val4\", \"fin\", \"val5\", \"fin\", \"val6\"]\n",
    "print(\"\\n\\n-Si on enlève la valeur 'begin'(à l'indice 7), la fonction donnera:\\n\",decoupe_sequence(seq5,start,stop),\"\\n Cela donne ce tableau car on ne redemande pas, avec le 'begin' qui fait partie de start, de reprendre des valeurs.\")\n",
    "\n",
    "#fin1 6 begin 7\n",
    "seq6= [\"val1\", \"début\", \"val2\", \"val3\", \"end\", \"val4\", \"val5\", \"fin\", \"val6\"]\n",
    "print(\"\\n\\n-Si on enlève les valeurs 'fin'(à l'indice 6) et ''(à l'indice 7), la fonction donnera:\\n\",decoupe_sequence(seq6,start,stop),\"\\n Cela donne ce tableau car on ne redemande pas, avec le 'begin' qui fait partie de start, de reprendre des valeurs. \\n Et le 'fin' n'avais aucun effet, car il avais pas de valeur de start ,qui aurais activé la prise de valeur ,auparavant.\")\n",
    "\n",
    "#end 4 fin1 6\n",
    "seq7 = [\"val1\", \"début\", \"val2\", \"val3\", \"val4\", \"begin\", \"val5\", \"fin\", \"val6\"]\n",
    "print(\"\\n\\n-Si on enlève les valeurs 'end'(à l'indice 4) et 'fin'(à l'indice 6), la fonction donnera:\\n\",decoupe_sequence(seq7,start,stop),\"\\n Cela donne ce tableau car la fonction n'a rien pour arrêter sauf avec le dernier 'fin' \\n Donc elle prend toutes les valeurs qui passe.\")\n",
    "print(\"\\n\\nEt\")\n",
    "\n",
    "\n",
    "\n",
    "\n",
    "test_decoupe_sequence()"
   ]
  },
  {
   "cell_type": "markdown",
   "id": "38353c89",
   "metadata": {},
   "source": [
    "<strong><a href=#qts2> Retour à la consigne de la Question 2</a></strong>"
   ]
  },
  {
   "cell_type": "code",
   "execution_count": 5,
   "id": "5459dcf6",
   "metadata": {},
   "outputs": [],
   "source": [
    "#Docstring de decoupe_sequence\n",
    "?decoupe_sequence"
   ]
  },
  {
   "cell_type": "markdown",
   "id": "81926ffb",
   "metadata": {},
   "source": [
    "#### <u><p id=\"qts3\">Question 3</p></u>\n",
    "\n",
    "\n",
    "Définir la fonction `codons_to_seq_codantes` qui prend en paramètre une séquence de codons et le dictionnaire de correspondance entre codons et acides aminés, et découpe la séquence de codons en séquences codantes. Les différentes séquences sont stockées dans un tableau. L'apel de la fonction `codons_to_seq` avec la séquence  `[\"CGU\", \"UUU\", \"AUG\", \"CGU\", \"AUG\", \"AAU\", \"UAA\", \"AUG\", \"GGG\", \"CCC\",  \"CGU\", \"UAG\", \"GGG\"]` doit retourner le tableau :\n",
    "```python\n",
    "[\n",
    "    [\"CGU\", \"AUG\", \"AAU\"],\n",
    "    [\"GGG\", \"CCC\", \"CGU\"]\n",
    "]\n",
    "```\n",
    "\n",
    "**Remarque :** la fonction ne doit pas retourner de séquence codante vide.\n",
    "\n",
    "<strong><a href=#Sommaire> Retour au Sommaire</a></strong>\n"
   ]
  },
  {
   "cell_type": "code",
   "execution_count": 24,
   "id": "8a42400d",
   "metadata": {},
   "outputs": [
    {
     "name": "stdout",
     "output_type": "stream",
     "text": [
      "Pour la fonction codons_to_seq_codantes:\n",
      "\n",
      "\n",
      "\n",
      "Le dictionnaire dic est le dictionnaire de correspondance entre codons et acides aminés.\n",
      "\n",
      "\n",
      "Avec la séquence de codons:\n",
      " ['CGU', 'UUU', 'AUG', 'CGU', 'AUG', 'AAU', 'UAA', 'AUG', 'GGG', 'CCC', 'CGU', 'UAG', 'GGG'] \n",
      "La fonction codons_to_seq_codantes, on obtient les séquences:\n",
      " [['CGU', 'AUG', 'AAU'], ['GGG', 'CCC', 'CGU']] \n",
      "La fonction donne ça car la séquence est bien organisé de manière a avoir un codon début et un fin a un moment.\n",
      "\n",
      "\n",
      "\n",
      "Avec la séquence de codons:\n",
      " ['UAG', 'GAU', 'CCE', 'AUG', 'UAG', 'AUG', 'AUG', 'GAU', 'CCE', 'UGG', 'AAA'] \n",
      "La fonction codons_to_seq_codantes, on obtient les séquences:\n",
      " [[], ['AUG', 'GAU', 'CCE', 'UGG', 'AAA']] \n",
      "La fonction donne un [] car dans la séquence il y a un moment ou il y a un codon début et un codon fin juste après.\n",
      "Et il y a rien entre ces deux codons. \n",
      "\n",
      "\n",
      "\n",
      "Avec la séquence de codons:\n",
      " ['AUG', 'GGA', 'UUA', 'UCC', 'AUG', 'GAU', 'UGG', 'CCG', 'GUA', 'CGA', 'CUA', 'AAA', 'AAG', 'AAU', 'UAA', 'CCC', 'AUG', 'UAG'] \n",
      "La fonction codons_to_seq_codantes, on obtient les séquences:\n",
      " [['GGA', 'UUA', 'UCC', 'AUG', 'GAU', 'UGG', 'CCG', 'GUA', 'CGA', 'CUA', 'AAA', 'AAG', 'AAU'], []] \n",
      "La fonction donne la plupart des codons car il faut un codons stop pour l'arréter. \n",
      "\n",
      "\n",
      "\n",
      "Avec la séquence de codons:\n",
      " ['UUA', 'UAG', 'CCG', 'CCA', 'AGU', 'AUC', 'CCA', 'UUU', 'GGA'] \n",
      "La fonction codons_to_seq_codantes, on obtient la séquence:\n",
      " [] \n",
      "La fonction donne rien car il y a aucun codons 'AUG' qui est le codon qui déclanche une séquence. \n",
      "\n",
      "\n",
      "\n",
      "Et\n",
      "Test Valide\n"
     ]
    }
   ],
   "source": [
    "print(\"Pour la fonction codons_to_seq_codantes:\\n\\n\\n\")\n",
    "dic=load_dico_codons_aa(\"data/codons_aa.json\")\n",
    "print(\"Le dictionnaire dic est le dictionnaire de correspondance entre codons et acides aminés.\\n\\n\")\n",
    "seq=[\"CGU\", \"UUU\", \"AUG\", \"CGU\", \"AUG\", \"AAU\", \"UAA\", \"AUG\", \"GGG\", \"CCC\",  \"CGU\", \"UAG\", \"GGG\"]\n",
    "seq1=[\"UAG\",\"GAU\",\"CCE\",\"AUG\",\"UAG\",\"AUG\",\"AUG\",\"GAU\",\"CCE\",\"UGG\",\"AAA\"]\n",
    "seq2=[\"AUG\",\"GGA\",\"UUA\",\"UCC\",\"AUG\",\"GAU\",\"UGG\",\"CCG\",\"GUA\",\"CGA\",\"CUA\",\"AAA\",\"AAG\",\"AAU\",\"UAA\",\"CCC\",\"AUG\",\"UAG\"]\n",
    "seq3=[\"UUA\",\"UAG\",\"CCG\",\"CCA\",\"AGU\",\"AUC\",\"CCA\",\"UUU\",\"GGA\"]\n",
    "print(\"Avec la séquence de codons:\\n\",seq,\"\\nLa fonction codons_to_seq_codantes, on obtient les séquences:\\n\",codons_to_seq_codantes(seq,dic),\"\\nLa fonction donne ça car la séquence est bien organisé de manière a avoir un codon début et un fin a un moment.\\n\\n\\n\")\n",
    "print(\"Avec la séquence de codons:\\n\",seq1,\"\\nLa fonction codons_to_seq_codantes, on obtient les séquences:\\n\",codons_to_seq_codantes(seq1,dic),\"\\nLa fonction donne un [] car dans la séquence il y a un moment ou il y a un codon début et un codon fin juste après.\\nEt il y a rien entre ces deux codons. \\n\\n\\n\")\n",
    "print(\"Avec la séquence de codons:\\n\",seq2,\"\\nLa fonction codons_to_seq_codantes, on obtient les séquences:\\n\",codons_to_seq_codantes(seq2,dic),\"\\nLa fonction donne la plupart des codons car il faut un codon stop pour l'arréter. \\n\\n\\n\")\n",
    "print(\"Avec la séquence de codons:\\n\",seq3,\"\\nLa fonction codons_to_seq_codantes, on obtient la séquence:\\n\",codons_to_seq_codantes(seq3,dic),\"\\nLa fonction donne rien car il y a aucun codons 'AUG' qui est le codon qui déclanche une séquence. \\n\\n\\n\")\n",
    "print(\"Et\")\n",
    "test_codons_to_seq_codantes()"
   ]
  },
  {
   "cell_type": "markdown",
   "id": "1a31ff2c",
   "metadata": {},
   "source": [
    "<strong><a href=#qts3> Retour à la consigne de la Question 3</a></strong>"
   ]
  },
  {
   "cell_type": "code",
   "execution_count": 7,
   "id": "9b4cd6b4",
   "metadata": {},
   "outputs": [],
   "source": [
    "#Docstring de codons_to_seq_codantes\n",
    "?codons_to_seq_codantes"
   ]
  },
  {
   "cell_type": "markdown",
   "id": "7ed8269c",
   "metadata": {},
   "source": [
    "#### <u><p id=\"qts4\">Question 4</p></u>\n",
    "\n",
    "\n",
    "Définir la fonction `seq_codantes_to_seq_aas` prenant en paramètre un tableau de séquences codantes (même type que les valeurs retournées par la fonction précédente)  et le dictionnaire de correspondance entre codons et acides aminés, et retournant un tableau contenant les différentes séquences d'acides aminés codées par les différentes séquences codantes. L'appel de la fonction `seq_codantes_to_seq_aas` avec le tableau retourné dans l'exemple de la fonction `codons_to_seq_codantes` doit retourner le tableau :\n",
    "\n",
    "```python\n",
    "[\n",
    "    [\"Arginine\", \"Methionine\", \"Asparagine\"],\n",
    "    [\"Glycine\", \"Proline\", \"Arginine\"]\n",
    "]\n",
    "```\n",
    "\n",
    "<strong><a href=#Sommaire> Retour au Sommaire</a></strong>"
   ]
  },
  {
   "cell_type": "code",
   "execution_count": 23,
   "id": "9e8bd8fb",
   "metadata": {},
   "outputs": [
    {
     "name": "stdout",
     "output_type": "stream",
     "text": [
      "Pour la fonction seq_codantes_to_seq_aas:\n",
      "\n",
      "\n",
      "\n",
      "Le dictionnaire dic est le dictionnaire de correspondance entre codons et acides aminés.\n",
      "\n",
      "\n",
      "On va prendre les sequences obtenu dans la question précédente.\n",
      "\n",
      "\n",
      "\n",
      "Avec les séquences:\n",
      " [['CGU', 'AUG', 'AAU'], ['GGG', 'CCC', 'CGU']] \n",
      "La fonction seq_codantes_to_seq_aas, on obtient:\n",
      " [['Arginine', 'Methionine', 'Asparagine'], ['Glycine', 'Proline', 'Arginine']] \n",
      "\n",
      "\n",
      "\n",
      "Avec les séquences:\n",
      " [[], ['AUG', 'GAU', 'CCE', 'UGG', 'AAA']] \n",
      "La fonction seq_codantes_to_seq_aas, on obtient:\n",
      " [[], ['Methionine', 'Aspartic acid']] \n",
      "\n",
      "\n",
      "\n",
      "Avec les séquences:\n",
      " [['GGA', 'UUA', 'UCC', 'AUG', 'GAU', 'UGG', 'CCG', 'GUA', 'CGA', 'CUA', 'AAA', 'AAG', 'AAU'], []] \n",
      "La fonction seq_codantes_to_seq_aas, on obtient:\n",
      " [['Glycine', 'Leucine', 'Serine', 'Methionine', 'Aspartic acid', 'Tryptophan', 'Proline', 'Valine', 'Arginine', 'Leucine', 'Lysine', 'Lysine', 'Asparagine'], []] \n",
      "\n",
      "\n",
      "\n",
      "Avec les séquences:\n",
      " [] \n",
      "La fonction seq_codantes_to_seq_aas, on obtient:\n",
      " [] \n",
      "\n",
      "\n",
      "\n",
      "Et\n",
      "Test Valide\n"
     ]
    }
   ],
   "source": [
    "print(\"Pour la fonction seq_codantes_to_seq_aas:\\n\\n\\n\")\n",
    "dic=load_dico_codons_aa(\"data/codons_aa.json\")\n",
    "print(\"Le dictionnaire dic est le dictionnaire de correspondance entre codons et acides aminés.\\n\\n\")\n",
    "sequ=[['CGU', 'AUG', 'AAU'], ['GGG', 'CCC', 'CGU']] \n",
    "sequ1=[[], ['AUG', 'GAU', 'CCE', 'UGG', 'AAA']] \n",
    "sequ2=[['GGA', 'UUA', 'UCC', 'AUG', 'GAU', 'UGG', 'CCG', 'GUA', 'CGA', 'CUA', 'AAA', 'AAG', 'AAU'], []] \n",
    "sequ3=[]\n",
    "print(\"On va prendre les sequences obtenu dans la question précédente.\\n\\n\\n\")\n",
    "print(\"Avec les séquences:\\n\",sequ,\"\\nLa fonction seq_codantes_to_seq_aas, on obtient:\\n\",seq_codantes_to_seq_aas(sequ, dic),\"\\n\\n\\n\")\n",
    "print(\"Avec les séquences:\\n\",sequ1,\"\\nLa fonction seq_codantes_to_seq_aas, on obtient:\\n\",seq_codantes_to_seq_aas(sequ1, dic),\"\\n\\n\\n\")\n",
    "print(\"Avec les séquences:\\n\",sequ2,\"\\nLa fonction seq_codantes_to_seq_aas, on obtient:\\n\",seq_codantes_to_seq_aas(sequ2, dic),\"\\n\\n\\n\")\n",
    "print(\"Avec les séquences:\\n\",sequ3,\"\\nLa fonction seq_codantes_to_seq_aas, on obtient:\\n\",seq_codantes_to_seq_aas(sequ3, dic),\"\\n\\n\\n\")\n",
    "print(\"Et\")\n",
    "test_seq_codantes_to_seq_aas()"
   ]
  },
  {
   "cell_type": "markdown",
   "id": "edca913d",
   "metadata": {},
   "source": [
    "<strong><a href=#qts4> Retour à la consigne de la Question 4</a></strong>"
   ]
  },
  {
   "cell_type": "code",
   "execution_count": 9,
   "id": "494d5f13",
   "metadata": {},
   "outputs": [],
   "source": [
    "#Docstring de seq_codantes_to_seq_aas\n",
    "?seq_codantes_to_seq_aas"
   ]
  },
  {
   "cell_type": "markdown",
   "id": "faea1c10",
   "metadata": {},
   "source": [
    "#### <u><p id=\"qts5\">Question 5</p></u>\n",
    "\n",
    "\n",
    "Définir la fonction `adn_encode_molecule` prenant en parmètre un brin d'ADN, le dictionnaire de correspondance entre codons et acides aminés et une molécule (séquence d'acide aminées). La fonction doit retourner `True` si l'ARN obtenu à partir de l'ADN puis découpé en codons contient une séquence codante correspondant à la molécule, c'est-à-dire si la séquence d'acide aminée correspondant à une séquence codante est la même que la molécule.\n",
    "Par exemple, l'appel de la fonction `adn_encode_molecule` avec l'ADN `\"CGTTTTATGCGTATGAATTAAATGGGGCCCCGTTAGGGG\"` et la molécule `[\"Glycine\", \"Proline\", \"Arginine\"]` doit retourner `True`.\n",
    "\n",
    "<strong><a href=#Sommaire> Retour au Sommaire</a></strong>"
   ]
  },
  {
   "cell_type": "code",
   "execution_count": 22,
   "id": "d6ff095f",
   "metadata": {},
   "outputs": [
    {
     "name": "stdout",
     "output_type": "stream",
     "text": [
      "Pour la fonction adn_encode_molecule:\n",
      "\n",
      "\n",
      "\n",
      "Le dictionnaire dic est le dictionnaire de correspondance entre codons et acides aminés.\n",
      "\n",
      "\n",
      "Le brin d'adn :\n",
      "CGTTTTATGCGTATGAATTAAATGGGGCCCCGTTAGGGG\n",
      "\n",
      "Donne la séquence finale :\n",
      " [['Arginine', 'Methionine', 'Asparagine'], ['Glycine', 'Proline', 'Arginine']] \n",
      "\n",
      "Et la fonction adn_encode_molecule donne: True \n",
      "\n",
      "La fonction donne ça car elle possède la molécule ['Glycine', 'Proline', 'Arginine'] dans sa séquence finale.\n",
      "\n",
      "\n",
      "\n",
      "\n",
      "Le brin d'adn :\n",
      "ATGGGGCCACGTATGT\n",
      "\n",
      "Donne la séquence finale :\n",
      " [['Glycine', 'Proline', 'Arginine', 'Methionine']] \n",
      "\n",
      "Et la fonction adn_encode_molecule donne: False \n",
      "\n",
      "La fonction donne ça car elle ne possède pas la molécule ['Glycine', 'Proline', 'Arginine'] dans sa séquence finale, \n",
      "Car il y a un acide aminé en trop.\n",
      "\n",
      "\n",
      "\n",
      "\n",
      "Le brin d'adn :\n",
      "ATGGGGCCACGTTAGATGTTTATTGGTCCGGG\n",
      "\n",
      "Donne la séquence finale :\n",
      " [['Glycine', 'Proline', 'Arginine'], ['Phenylalanine', 'Isoleucine', 'Glycine', 'Proline']] \n",
      "\n",
      "Et la fonction adn_encode_molecule donne: True \n",
      "\n",
      "La fonction donne ça car elle possède la molécule ['Glycine', 'Proline', 'Arginine'] dans sa séquence finale.\n",
      "\n",
      "\n",
      "\n",
      "\n",
      "Le brin d'adn :\n",
      "GGGCCTCGTATGTTATTCGGTTAG\n",
      "\n",
      "Donne la séquence finale :\n",
      " [['Leucine', 'Phenylalanine', 'Glycine']] \n",
      "\n",
      "Et la fonction adn_encode_molecule donne: False \n",
      "\n",
      "La fonction donne ça car elle ne possède pas la molécule ['Glycine', 'Proline', 'Arginine'] dans sa séquence finale.\n",
      "\n",
      "\n",
      "\n",
      "\n",
      "Le brin d'adn :\n",
      "ATGGGGCCACGTGGCATGA\n",
      "\n",
      "Donne la séquence finale :\n",
      " [['Glycine', 'Proline', 'Arginine', 'Glycine', 'Methionine']] \n",
      "\n",
      "Et la fonction adn_encode_molecule donne: False \n",
      "\n",
      "La fonction donne ça car elle ne possède pas la molécule ['Glycine', 'Proline', 'Arginine'] dans sa séquence finale.\n",
      "\n",
      "\n",
      "\n",
      "\n",
      "Le brin d'adn :\n",
      "GGACCCATGGGCCCGCGTTT\n",
      "\n",
      "Donne la séquence finale :\n",
      " [['Glycine', 'Proline', 'Arginine']] \n",
      "\n",
      "Et la fonction adn_encode_molecule donne: True \n",
      "\n",
      "La fonction donne ça car elle possède la molécule ['Glycine', 'Proline', 'Arginine'] dans sa séquence finale.\n",
      "\n",
      "\n",
      "\n",
      "\n",
      "Et\n",
      "Test Valide\n"
     ]
    }
   ],
   "source": [
    "print(\"Pour la fonction adn_encode_molecule:\\n\\n\\n\")\n",
    "dic=load_dico_codons_aa(\"data/codons_aa.json\")\n",
    "print(\"Le dictionnaire dic est le dictionnaire de correspondance entre codons et acides aminés.\\n\\n\")\n",
    "molecule=[\"Glycine\", \"Proline\", \"Arginine\"]\n",
    "adn1=\"CGTTTTATGCGTATGAATTAAATGGGGCCCCGTTAGGGG\"\n",
    "adn2=\"ATGGGGCCACGTATGT\"\n",
    "adn3=\"ATGGGGCCACGTTAGATGTTTATTGGTCCGGG\"\n",
    "adn4=\"GGGCCTCGTATGTTATTCGGTTAG\"\n",
    "adn5=\"ATGGGGCCACGTGGCATGA\"\n",
    "adn6=\"GGACCCATGGGCCCGCGTTT\"\n",
    "print(\"Le brin d'adn :\\n\"+adn1+\"\\n\\nDonne la séquence finale :\\n\",test_fonction(adn1,dic),\"\\n\\nEt la fonction adn_encode_molecule donne:\",adn_encode_molecule(adn1,dic,molecule),\"\\n\\nLa fonction donne ça car elle possède la molécule\",molecule,\"dans sa séquence finale.\\n\\n\\n\\n\")\n",
    "print(\"Le brin d'adn :\\n\"+adn2+\"\\n\\nDonne la séquence finale :\\n\",test_fonction(adn2,dic),\"\\n\\nEt la fonction adn_encode_molecule donne:\",adn_encode_molecule(adn2,dic,molecule),\"\\n\\nLa fonction donne ça car elle ne possède pas la molécule\",molecule,\"dans sa séquence finale, \\nCar il y a un acide aminé en trop.\\n\\n\\n\\n\")\n",
    "print(\"Le brin d'adn :\\n\"+adn3+\"\\n\\nDonne la séquence finale :\\n\",test_fonction(adn3,dic),\"\\n\\nEt la fonction adn_encode_molecule donne:\",adn_encode_molecule(adn3,dic,molecule),\"\\n\\nLa fonction donne ça car elle possède la molécule\",molecule,\"dans sa séquence finale.\\n\\n\\n\\n\")\n",
    "print(\"Le brin d'adn :\\n\"+adn4+\"\\n\\nDonne la séquence finale :\\n\",test_fonction(adn4,dic),\"\\n\\nEt la fonction adn_encode_molecule donne:\",adn_encode_molecule(adn4,dic,molecule),\"\\n\\nLa fonction donne ça car elle ne possède pas la molécule\",molecule,\"dans sa séquence finale.\\n\\n\\n\\n\")\n",
    "print(\"Le brin d'adn :\\n\"+adn5+\"\\n\\nDonne la séquence finale :\\n\",test_fonction(adn5,dic),\"\\n\\nEt la fonction adn_encode_molecule donne:\",adn_encode_molecule(adn5,dic,molecule),\"\\n\\nLa fonction donne ça car elle ne possède pas la molécule\",molecule,\"dans sa séquence finale.\\n\\n\\n\\n\")\n",
    "print(\"Le brin d'adn :\\n\"+adn6+\"\\n\\nDonne la séquence finale :\\n\",test_fonction(adn6,dic),\"\\n\\nEt la fonction adn_encode_molecule donne:\",adn_encode_molecule(adn6,dic,molecule),\"\\n\\nLa fonction donne ça car elle possède la molécule\",molecule,\"dans sa séquence finale.\\n\\n\\n\\n\")\n",
    "\n",
    "print(\"Et\")\n",
    "test_adn_encode_molecule()"
   ]
  },
  {
   "cell_type": "markdown",
   "id": "eda432d7",
   "metadata": {},
   "source": [
    "<strong><a href=#qts5> Retour à la consigne de la Question 5</a></strong>"
   ]
  },
  {
   "cell_type": "code",
   "execution_count": 1,
   "id": "e0b27d95",
   "metadata": {},
   "outputs": [
    {
     "name": "stdout",
     "output_type": "stream",
     "text": [
      "Object `adn_encode_molecule` not found.\n"
     ]
    }
   ],
   "source": [
    "#Docstring de adn_encode_molecule\n",
    "?adn_encode_molecule"
   ]
  },
  {
   "cell_type": "markdown",
   "id": "13c5bb48",
   "metadata": {},
   "source": [
    "## Développement et rendu\n",
    "\n",
    "La SAÉ devra être faite en binôme. Les fonctions doivent être implémentées dans un module appelé `biology` et les tests unitaires des fonctions dans le module `test_biology`. L'utilisation des fonctions du module devra être présentée dans un notebook appelé `using_biology.ipynb`. Le répertoire du projet devra également contenir un fichier `etudiants.txt` contenant les codes INE de deux étudiants du projet (un par ligne).\n",
    "Le répertoire devra aussi contenir un sous-répertoire `data` contenant le fichier `codons_aa.json`.\n",
    "\n",
    "Un squelette de rendu de projet se trouve sur le dépôt gitlab de l'université."
   ]
  }
 ],
 "metadata": {
  "kernelspec": {
   "display_name": "Python 3",
   "language": "python",
   "name": "python3"
  },
  "language_info": {
   "codemirror_mode": {
    "name": "ipython",
    "version": 3
   },
   "file_extension": ".py",
   "mimetype": "text/x-python",
   "name": "python",
   "nbconvert_exporter": "python",
   "pygments_lexer": "ipython3",
   "version": "3.8.8"
  }
 },
 "nbformat": 4,
 "nbformat_minor": 5
}
