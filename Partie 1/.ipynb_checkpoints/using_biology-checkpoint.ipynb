{
 "cells": [
  {
   "cell_type": "markdown",
   "id": "7385c0d4",
   "metadata": {},
   "source": [
    "## <strong><em><u>SAÉ S1.02 : ARN et protéïnes</u></em></strong>\n",
    "\n",
    "\n",
    "\n",
    "Ce document correspond au sujet de la SAÉ S1.02 de l'année universitaire 2021/2022. Ce travail est à faire par binôme en autonomie.\n",
    "La SAÉ est découpée en deux parties. \n",
    "**La première partie devra être rendue avant le 5 décembre et la deuxième partie avant le 16 janvier.**\n",
    "\n",
    "**Attention :** L'évaluation de cette SAÉ se fera notamment durant les contrôles de R101. L'évaluation de la partie 1 de la SAÉ se fera en partie lors du troisième contrôle de  la ressource R101 (prévu le 8 décembre 2021). L'évaluation de la partie 2 se fera en partie lors du dernier contrôle de R101 (prévu le 21 janvier 2022). Pour les contrôles, il faut connaître le sujet et le code (les structures de données utilisées et les diffférentes fonctions)."
   ]
  },
  {
   "cell_type": "markdown",
   "id": "0e9656a4",
   "metadata": {},
   "source": [
    "### Binôme:\n",
    "\n",
    "\n",
    "<li>HAUDE Aucéane</li>\n",
    "<li>DA COSTA  Antoine</li>"
   ]
  },
  {
   "cell_type": "markdown",
   "id": "8949a04e",
   "metadata": {},
   "source": [
    "## <em>Cellule à Activer au début :</em>\n"
   ]
  },
  {
   "cell_type": "code",
   "execution_count": 1,
   "id": "fccc36df",
   "metadata": {},
   "outputs": [],
   "source": [
    "import biology as b\n",
    "import test_biology as bt\n",
    "from json import *"
   ]
  },
  {
   "cell_type": "markdown",
   "id": "e204f303",
   "metadata": {},
   "source": [
    "## <u><p id=\"Sommaire\">Sommaire</p></u>\n",
    "\n",
    "### <u>Partie 1</u>\n",
    "\n",
    "\n",
    "<p>\n",
    "<em><li><a href=#qts1>Question 1</a></li>\n",
    "\n",
    "<li><a href=#qts2>Question 2</a></li>\n",
    "    \n",
    "<li><a href=#qts3>Question 3</a></li>\n",
    "    \n",
    "<li><a href=#qts4>Question 4</a></li>\n",
    "    \n",
    "<li><a href=#qts5>Question 5</a></li>\n",
    "    \n",
    "<li><a href=#qts6>Question 6</a></li></em>\n",
    "    \n",
    "</p>"
   ]
  },
  {
   "cell_type": "markdown",
   "id": "7bb289ee",
   "metadata": {},
   "source": [
    "### <em><u>Sujet</u></em>\n",
    "\n",
    "\n",
    "#### <em><u>Partie 1</u></em>\n",
    "\n",
    "Les exercices s'appuient sur la notion d'[ADN](https://fr.wikipedia.org/wiki/Acide_d%C3%A9soxyribonucl%C3%A9ique)/[ARN](https://fr.wikipedia.org/wiki/Acide_ribonucl%C3%A9ique). On supposera dans l'ensemble des exercices que l'ADN est codé sous la forme d'une chaîne de caractères contenant uniquement les lettres majuscules `A`, `T`, `G`, `C` correspondant aux différentes bases (adénine, cytosine, guanine ou thymine).\n",
    "L'ARN sera codé sous la forme d'une chaîne de caractères contenant uniquement les lettres majuscules `A`, `U`, `G`, `C`."
   ]
  },
  {
   "cell_type": "markdown",
   "id": "dcd0f396",
   "metadata": {},
   "source": [
    "#### <strong><u><p id=\"qts1\"> Question 1</p></u></strong>\n",
    "\n",
    "Définir la fonction `est_base` prenant en paramètre un caractère et retournant `True` si ce caractère correspond à une base de l'ADN (est un des caractères `A`, `T`, `G`, `C`), et `False` sinon. \n",
    "\n",
    "À titre d'exemple, l'appel de la fonction `est_base` avec la valeur `\"A\"` doit retourner `True` alors que l'appel avec la valeur `\"z\"` doit retourner `False`.\n",
    "\n",
    "<strong><a href=#Sommaire> Retour au Sommaire</a></strong>"
   ]
  },
  {
   "cell_type": "code",
   "execution_count": 13,
   "id": "9f0a05a7",
   "metadata": {},
   "outputs": [
    {
     "name": "stdout",
     "output_type": "stream",
     "text": [
      "True\n",
      "False\n",
      "False\n",
      "False\n",
      "Test ok\n"
     ]
    }
   ],
   "source": [
    "print(b.est_base('A'))\n",
    "print(b.est_base('a'))\n",
    "print(b.est_base(\"z\"))\n",
    "print(b.est_base(\"U\"))\n",
    "bt.test_est_base()"
   ]
  },
  {
   "cell_type": "code",
   "execution_count": 15,
   "id": "7073285e",
   "metadata": {},
   "outputs": [],
   "source": [
    "#Docstring de est_base\n",
    "?b.est_base"
   ]
  },
  {
   "cell_type": "markdown",
   "id": "0cf7af51",
   "metadata": {},
   "source": [
    "#### <u><p id=\"qts2\">Question 2</p></u>\n",
    "\n",
    "\n",
    "Définir la fonction `est_adn` prenant en paramètre une chaîne de caractères et retournant `True` si la chaîne correspond à un ADN (est constituée uniquement des caractères `A`, `T`, `G`, `C`), et `False` sinon.\n",
    "\n",
    "À titre d'exemple, l'appel de la fonction `est_adn` avec la valeur `\"ATGTCAAA\"` doit retourner `True` alors que l'appel avec la valeur `\"ATBOAATG\"` doit retourner `False`.\n",
    "\n",
    "<strong><a href=#Sommaire> Retour au Sommaire</a></strong>"
   ]
  },
  {
   "cell_type": "code",
   "execution_count": 6,
   "id": "850e2ca5",
   "metadata": {},
   "outputs": [
    {
     "name": "stdout",
     "output_type": "stream",
     "text": [
      "True\n",
      "True\n",
      "False\n",
      "False\n",
      "Test Ok\n"
     ]
    }
   ],
   "source": [
    "print(b.est_adn('AAGTCCGA')) \n",
    "print(b.est_adn(\"ATGTCAAA\"))\n",
    "print(b.est_adn(\"ATBOAATG\"))\n",
    "print(b.est_adn('AMKJ'))\n",
    "bt.test_est_adn()"
   ]
  },
  {
   "cell_type": "code",
   "execution_count": 5,
   "id": "0e620091",
   "metadata": {},
   "outputs": [],
   "source": [
    "#Docstring de est_adn\n",
    "?b.est_adn"
   ]
  },
  {
   "cell_type": "markdown",
   "id": "c7745a1e",
   "metadata": {},
   "source": [
    "#### <u><p id=\"qts3\">Question 3</p></u>\n",
    "\n",
    "\n",
    "L'ARN est construit à partir de l'ADN en remplaçant la thymine `T` par l'uracile codé par la lettre `U`. Ainsi la transcription de la séquence ADN `ATTGCA` en ARN donne `AUUGCA`.\n",
    "\n",
    "Définir la fonction `arn` prenant en paramètre une séquence d'ADN et retournant la séquence ARN associée.\n",
    "\n",
    "À titre d'exemple, l'appel de la fonction `arn` avec la valeur `\"ATGTCAAA\"` doit retourner `\"AUGUCAAA\"`.\n",
    "\n",
    "**Attention :** si la chaîne passée en paramètre ne correspond pas à de l'ADN, la fonction `arn` doit retourner la valeur `None`.\n",
    "\n",
    "<strong><a href=#Sommaire> Retour au Sommaire</a></strong>\n"
   ]
  },
  {
   "cell_type": "code",
   "execution_count": 12,
   "id": "9f3d45ad",
   "metadata": {},
   "outputs": [
    {
     "name": "stdout",
     "output_type": "stream",
     "text": [
      "AUUGCA\n",
      "AUGUCAAA\n",
      "AUUUUGC\n",
      "None\n",
      "Test Ok\n"
     ]
    }
   ],
   "source": [
    "print(b.arn(\"ATTGCA\"))\n",
    "print(b.arn(\"ATGTCAAA\"))\n",
    "print(b.arn('ATTTTGC'))\n",
    "print(b.arn('AAAR'))\n",
    "bt.test_arn()"
   ]
  },
  {
   "cell_type": "code",
   "execution_count": 7,
   "id": "eba2dd8d",
   "metadata": {},
   "outputs": [],
   "source": [
    "#Docstring de arn\n",
    "?b.arn"
   ]
  },
  {
   "cell_type": "markdown",
   "id": "c6009b48",
   "metadata": {},
   "source": [
    "#### <u><p id=\"qts4\">Question 4</p></u>\n",
    "\n",
    "\n",
    "Un codon est une séquence de trois bases sur un ARN (messager) spécifiant l'un des 22 acides aminés protéinogènes dont la succession sur l'ARN détermine la structure primaire de la protéine à synthétiser *(définition issue de Wikipedia)*.\n",
    "\n",
    "Définir la fonction `arn_to_codons` prenant en paramètre une chaîne de caractères correspondant à de l'ARN et découpant cet ARN en codons. La fonction doit retourner un tableau contenant la liste des codons.\n",
    "Par exemple, l'appel de la fonction `arn_to_codons` avec l'ARN `\"CGUUAGGGG\"` doit retourner le tableau `[\"CGU\", \"UAG\", \"GGG\"]`.\n",
    "\n",
    "**Remarque :** Si le nombre de nucléotides dans l'ARN n'est pas un multiple de 3, les derniers sont ignorés. Par exemple, les ARN `\"CGUAAU\"` et `\"CGUAAUGC\"` donnent tous les deux la séquence de codons `[\"CGU\", \"AAU\"]`.\n",
    "\n",
    "<strong><a href=#Sommaire> Retour au Sommaire</a></strong>"
   ]
  },
  {
   "cell_type": "code",
   "execution_count": 8,
   "id": "a078ce9e",
   "metadata": {},
   "outputs": [
    {
     "name": "stdout",
     "output_type": "stream",
     "text": [
      "['CGU', 'UAG', 'GGG']\n",
      "['CGU', 'AAU']\n",
      "['CGU', 'AAU']\n",
      "['AUG', 'AAC', 'AGA']\n",
      "[]\n",
      "Test Ok\n"
     ]
    }
   ],
   "source": [
    "print(b.arn_to_codons(\"CGUUAGGGG\"))\n",
    "print(b.arn_to_codons(\"CGUAAU\"))\n",
    "print(b.arn_to_codons('CGUAAUGC'))\n",
    "print(b.arn_to_codons('AUGAACAGAUC'))\n",
    "print(b.arn_to_codons('CGUAAUUT'))\n",
    "bt.test_arn_to_codons()"
   ]
  },
  {
   "cell_type": "code",
   "execution_count": 9,
   "id": "9a42a35b",
   "metadata": {},
   "outputs": [],
   "source": [
    "#Docstring de arn_to_codons\n",
    "?b.arn_to_codons"
   ]
  },
  {
   "cell_type": "markdown",
   "id": "8054cee3",
   "metadata": {},
   "source": [
    "#### <u><p id=\"qts5\">Question 5</p></u>\n",
    "\n",
    "\n",
    "Chaque codon correspond à un acide aminé.\n",
    "Par exemple, le codon `UUU` correspond à l'acide aminé Phenylalanine. Plusieurs codons correspondent à un même acide aminé. \n",
    "Certains codons, correspondant à la fin du séquençage des acides aminés, sont appelés *codons stop*. C'est le cas du codon `UAA` par exemple.\n",
    "\n",
    "Le fichier `data/codons_aa.json` contient la correspondance entre codons et acides aminés au format JSON. Les codons qui ne sont pas dans le fichier sont les codons stop.\n",
    "\n",
    "\n",
    "* Définir la fonction `load_dico_codons_aa` qui prend en paramètre un fichier au format JSON et retourne la structure de données chargée en mémoire à partir du JSON.\n",
    "\n",
    "\n",
    "* Définir la fonction `codons_stop` prenant en paramètre un dictionnaire dont les clés sont les codons et les valeurs les acides aminés correspondants (chaînes de caractères). La fonction retournera un tableau contenant l'ensemble des codons stop, c'est-à-dire l'ensemble des codons possibles avec les caractères `AUGC` qui ne sont pas des clés du dictionnaire.\n",
    "\n",
    "\n",
    "**Remarque :** Créer une variable initialisée avec les données contenues dans un fichier au format JSON se fait très facilement en python. Pour plus d'information, relire la fin du [cours 9 du module M1102](https://github.com/iutVilletaneuseDptInfo/M1102/blob/master/09_Dictionnnaires/cours9.ipynb).\n",
    "\n",
    "<strong><a href=#Sommaire> Retour au Sommaire</a></strong>"
   ]
  },
  {
   "cell_type": "code",
   "execution_count": 14,
   "id": "e90002dd",
   "metadata": {},
   "outputs": [
    {
     "name": "stdout",
     "output_type": "stream",
     "text": [
      "['AGA', 'AGG', 'UAA', 'UAG']\n",
      "Test Ok\n"
     ]
    }
   ],
   "source": [
    "dic=b.load_dico_codons_aa('data/codons_aa.json')\n",
    "print(b.codons_stop(dic))\n",
    "bt.test_codon_stop()"
   ]
  },
  {
   "cell_type": "code",
   "execution_count": 7,
   "id": "4a69c8ea",
   "metadata": {},
   "outputs": [],
   "source": [
    "#Docstring de load_dico_codons_aa\n",
    "?b.load_dico_codons_aa"
   ]
  },
  {
   "cell_type": "code",
   "execution_count": 8,
   "id": "1e4a65e5",
   "metadata": {},
   "outputs": [],
   "source": [
    "#Docstring de codons_stop\n",
    "?b.codons_stop"
   ]
  },
  {
   "cell_type": "markdown",
   "id": "b2f48198",
   "metadata": {},
   "source": [
    "#### <u><p id=\"qts6\">Question 6</p></u>\n",
    "\n",
    "\n",
    "\n",
    "Définir la fonction `codons_to_aa` prenant en paramètre un tableau de codons (correspondant par exemple à une valeur retournée par la fonction `arn_to_codons`) et le dictionnaire de correspondance entre codons et acides aminés. La fonction devra retourner un tableau contenant les acides aminés correspondant aux codons.\n",
    "\n",
    "**Attention :** Si l'un des codons est un codon stop, alors la synthèse (traduction des codons en acides aminés) s'arrête. Par exemple, si le tableau de codons passé en paramètre est `[\"CGU\", \"AAU\", \"UAA\", \"GGG\", \"CGU\"]`, alors le tableau retourné doit être `[\"Arginine\", \"Asparagine\"]` car le codon `CGU` correspond à l'Arginine, le codon `AAU` correspond à l'asparagine et `UAA` est un codon stop.\n",
    "\n",
    "<strong><a href=#Sommaire> Retour au Sommaire</a></strong>"
   ]
  },
  {
   "cell_type": "code",
   "execution_count": 11,
   "id": "38fd09df",
   "metadata": {},
   "outputs": [
    {
     "name": "stdout",
     "output_type": "stream",
     "text": [
      "['Arginine', 'Asparagine']\n",
      "['Glycine', 'Glutamine', 'Serine', 'Aspartic acid']\n",
      "[]\n",
      "Test Ok\n"
     ]
    }
   ],
   "source": [
    "print(b.codons_to_aa([\"CGU\", \"AAU\", \"UAA\", \"GGG\", \"CGU\"]))\n",
    "print(b.codons_to_aa([\"GGU\",\"CAG\",\"UCG\",\"GAC\"]))\n",
    "print(b.codons_to_aa([\"UAG\",\"AAA\",\"CUG\"]))\n",
    "bt.test_codons_to_aa()"
   ]
  },
  {
   "cell_type": "code",
   "execution_count": 6,
   "id": "8f385f10",
   "metadata": {},
   "outputs": [],
   "source": [
    "#Docstring de codons_to_aa\n",
    "?b.codons_to_aa"
   ]
  }
 ],
 "metadata": {
  "kernelspec": {
   "display_name": "Python 3",
   "language": "python",
   "name": "python3"
  },
  "language_info": {
   "codemirror_mode": {
    "name": "ipython",
    "version": 3
   },
   "file_extension": ".py",
   "mimetype": "text/x-python",
   "name": "python",
   "nbconvert_exporter": "python",
   "pygments_lexer": "ipython3",
   "version": "3.8.8"
  }
 },
 "nbformat": 4,
 "nbformat_minor": 5
}
